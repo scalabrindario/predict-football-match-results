{
 "cells": [
  {
   "cell_type": "code",
   "execution_count": 2,
   "metadata": {},
   "outputs": [],
   "source": [
    "# Importing libraries\n",
    "import pandas as pd\n",
    "import os\n",
    "\n",
    "# Importing libraries that we have created\n",
    "import Utilities as ut"
   ]
  },
  {
   "cell_type": "markdown",
   "metadata": {},
   "source": [
    "## Preparation"
   ]
  },
  {
   "cell_type": "markdown",
   "metadata": {},
   "source": [
    "In order to calculate the bookmaker's accuracy we decided to create a new dataframe made of all the premier league csv files, selecting only the columns strictly necessary for our calculations."
   ]
  },
  {
   "cell_type": "code",
   "execution_count": 3,
   "metadata": {},
   "outputs": [
    {
     "data": {
      "text/html": [
       "<div>\n",
       "<style scoped>\n",
       "    .dataframe tbody tr th:only-of-type {\n",
       "        vertical-align: middle;\n",
       "    }\n",
       "\n",
       "    .dataframe tbody tr th {\n",
       "        vertical-align: top;\n",
       "    }\n",
       "\n",
       "    .dataframe thead th {\n",
       "        text-align: right;\n",
       "    }\n",
       "</style>\n",
       "<table border=\"1\" class=\"dataframe\">\n",
       "  <thead>\n",
       "    <tr style=\"text-align: right;\">\n",
       "      <th></th>\n",
       "      <th>MW</th>\n",
       "      <th>home_team_name</th>\n",
       "      <th>home_team_goal_count</th>\n",
       "      <th>away_team_name</th>\n",
       "      <th>away_team_goal_count</th>\n",
       "      <th>odds_ft_home_team_win</th>\n",
       "      <th>odds_ft_draw</th>\n",
       "      <th>odds_ft_away_team_win</th>\n",
       "    </tr>\n",
       "  </thead>\n",
       "  <tbody>\n",
       "    <tr>\n",
       "      <td>380</td>\n",
       "      <td>1</td>\n",
       "      <td>Manchester United</td>\n",
       "      <td>1</td>\n",
       "      <td>Swansea City</td>\n",
       "      <td>2</td>\n",
       "      <td>1.39</td>\n",
       "      <td>5.02</td>\n",
       "      <td>9.99</td>\n",
       "    </tr>\n",
       "    <tr>\n",
       "      <td>381</td>\n",
       "      <td>1</td>\n",
       "      <td>Leicester City</td>\n",
       "      <td>2</td>\n",
       "      <td>Everton</td>\n",
       "      <td>2</td>\n",
       "      <td>3.24</td>\n",
       "      <td>3.43</td>\n",
       "      <td>2.38</td>\n",
       "    </tr>\n",
       "    <tr>\n",
       "      <td>382</td>\n",
       "      <td>1</td>\n",
       "      <td>Stoke City</td>\n",
       "      <td>0</td>\n",
       "      <td>Aston Villa</td>\n",
       "      <td>1</td>\n",
       "      <td>2.10</td>\n",
       "      <td>3.37</td>\n",
       "      <td>4.04</td>\n",
       "    </tr>\n",
       "  </tbody>\n",
       "</table>\n",
       "</div>"
      ],
      "text/plain": [
       "     MW     home_team_name  home_team_goal_count away_team_name  \\\n",
       "380   1  Manchester United                     1   Swansea City   \n",
       "381   1     Leicester City                     2        Everton   \n",
       "382   1         Stoke City                     0    Aston Villa   \n",
       "\n",
       "     away_team_goal_count  odds_ft_home_team_win  odds_ft_draw  \\\n",
       "380                     2                   1.39          5.02   \n",
       "381                     2                   3.24          3.43   \n",
       "382                     1                   2.10          3.37   \n",
       "\n",
       "     odds_ft_away_team_win  \n",
       "380                   9.99  \n",
       "381                   2.38  \n",
       "382                   4.04  "
      ]
     },
     "execution_count": 3,
     "metadata": {},
     "output_type": "execute_result"
    }
   ],
   "source": [
    "# Create an empty dataframe\n",
    "odd_data = pd.DataFrame(None)\n",
    "\n",
    "# Check the dataset Folder\n",
    "dataset_position_PL = \"dataset/Premier League/\"\n",
    "\n",
    "# Pick up all the files inside that folder\n",
    "file_list_PL = os.listdir(dataset_position_PL) \n",
    "\n",
    "\n",
    "for element in file_list_PL:\n",
    "    # Open the csv file\n",
    "    data = ut.open_csv(element,dataset_position_PL)\n",
    "    \n",
    "    # Adding the match week\n",
    "    data = ut.match_week(data)\n",
    "    \n",
    "    # Append to a unique dataframe\n",
    "    odd_data = odd_data.append(data, ignore_index = True)\n",
    "\n",
    "# Sorting the rows by time\n",
    "odd_data = odd_data.sort_values(by = ['timestamp'])\n",
    "\n",
    "# Keeping only some columns\n",
    "col_to_keep = ['MW','home_team_name', 'home_team_goal_count', 'away_team_name','away_team_goal_count','odds_ft_home_team_win','odds_ft_draw', 'odds_ft_away_team_win']\n",
    "odd_data = odd_data[col_to_keep]\n",
    "odd_data.head(3)\n"
   ]
  },
  {
   "cell_type": "markdown",
   "metadata": {},
   "source": [
    "# Bookmaker\n",
    "### Dataset preparation\n",
    "Then we decided to calculate the real result for every match (we do this looking at how many goals the two teams scored)"
   ]
  },
  {
   "cell_type": "code",
   "execution_count": 4,
   "metadata": {},
   "outputs": [
    {
     "data": {
      "text/html": [
       "<div>\n",
       "<style scoped>\n",
       "    .dataframe tbody tr th:only-of-type {\n",
       "        vertical-align: middle;\n",
       "    }\n",
       "\n",
       "    .dataframe tbody tr th {\n",
       "        vertical-align: top;\n",
       "    }\n",
       "\n",
       "    .dataframe thead th {\n",
       "        text-align: right;\n",
       "    }\n",
       "</style>\n",
       "<table border=\"1\" class=\"dataframe\">\n",
       "  <thead>\n",
       "    <tr style=\"text-align: right;\">\n",
       "      <th></th>\n",
       "      <th>MW</th>\n",
       "      <th>home_team_name</th>\n",
       "      <th>home_team_goal_count</th>\n",
       "      <th>away_team_name</th>\n",
       "      <th>away_team_goal_count</th>\n",
       "      <th>odds_ft_home_team_win</th>\n",
       "      <th>odds_ft_draw</th>\n",
       "      <th>odds_ft_away_team_win</th>\n",
       "      <th>Result</th>\n",
       "    </tr>\n",
       "  </thead>\n",
       "  <tbody>\n",
       "    <tr>\n",
       "      <td>380</td>\n",
       "      <td>1</td>\n",
       "      <td>Manchester United</td>\n",
       "      <td>1</td>\n",
       "      <td>Swansea City</td>\n",
       "      <td>2</td>\n",
       "      <td>1.39</td>\n",
       "      <td>5.02</td>\n",
       "      <td>9.99</td>\n",
       "      <td>A</td>\n",
       "    </tr>\n",
       "    <tr>\n",
       "      <td>381</td>\n",
       "      <td>1</td>\n",
       "      <td>Leicester City</td>\n",
       "      <td>2</td>\n",
       "      <td>Everton</td>\n",
       "      <td>2</td>\n",
       "      <td>3.24</td>\n",
       "      <td>3.43</td>\n",
       "      <td>2.38</td>\n",
       "      <td>D</td>\n",
       "    </tr>\n",
       "    <tr>\n",
       "      <td>382</td>\n",
       "      <td>1</td>\n",
       "      <td>Stoke City</td>\n",
       "      <td>0</td>\n",
       "      <td>Aston Villa</td>\n",
       "      <td>1</td>\n",
       "      <td>2.10</td>\n",
       "      <td>3.37</td>\n",
       "      <td>4.04</td>\n",
       "      <td>A</td>\n",
       "    </tr>\n",
       "  </tbody>\n",
       "</table>\n",
       "</div>"
      ],
      "text/plain": [
       "     MW     home_team_name  home_team_goal_count away_team_name  \\\n",
       "380   1  Manchester United                     1   Swansea City   \n",
       "381   1     Leicester City                     2        Everton   \n",
       "382   1         Stoke City                     0    Aston Villa   \n",
       "\n",
       "     away_team_goal_count  odds_ft_home_team_win  odds_ft_draw  \\\n",
       "380                     2                   1.39          5.02   \n",
       "381                     2                   3.24          3.43   \n",
       "382                     1                   2.10          3.37   \n",
       "\n",
       "     odds_ft_away_team_win Result  \n",
       "380                   9.99      A  \n",
       "381                   2.38      D  \n",
       "382                   4.04      A  "
      ]
     },
     "execution_count": 4,
     "metadata": {},
     "output_type": "execute_result"
    }
   ],
   "source": [
    "# Adding the real result to the dataset\n",
    "Result = []\n",
    "for home, away in zip(odd_data['home_team_goal_count'], odd_data['away_team_goal_count']):\n",
    "    \n",
    "    # Match game result is Home team win\n",
    "    if home > away:\n",
    "        Result.append(\"H\")\n",
    "    \n",
    "    # Match game result is Draw\n",
    "    elif home == away:\n",
    "        Result.append(\"D\")\n",
    "        \n",
    "    # Match game result is Away team win\n",
    "    else:\n",
    "        Result.append(\"A\")\n",
    "        \n",
    "# Adding the column to the dataset\n",
    "odd_data[\"Result\"] = Result\n",
    "odd_data.head(3)"
   ]
  },
  {
   "cell_type": "markdown",
   "metadata": {},
   "source": [
    "Now we have to understand what the most likely result is according to the bookmaker. This is important in order to compute the bookmaker's accuracy. We assume that the lowest odd is the most probable result."
   ]
  },
  {
   "cell_type": "code",
   "execution_count": 5,
   "metadata": {},
   "outputs": [
    {
     "data": {
      "text/html": [
       "<div>\n",
       "<style scoped>\n",
       "    .dataframe tbody tr th:only-of-type {\n",
       "        vertical-align: middle;\n",
       "    }\n",
       "\n",
       "    .dataframe tbody tr th {\n",
       "        vertical-align: top;\n",
       "    }\n",
       "\n",
       "    .dataframe thead th {\n",
       "        text-align: right;\n",
       "    }\n",
       "</style>\n",
       "<table border=\"1\" class=\"dataframe\">\n",
       "  <thead>\n",
       "    <tr style=\"text-align: right;\">\n",
       "      <th></th>\n",
       "      <th>MW</th>\n",
       "      <th>home_team_name</th>\n",
       "      <th>home_team_goal_count</th>\n",
       "      <th>away_team_name</th>\n",
       "      <th>away_team_goal_count</th>\n",
       "      <th>odds_ft_home_team_win</th>\n",
       "      <th>odds_ft_draw</th>\n",
       "      <th>odds_ft_away_team_win</th>\n",
       "      <th>Result</th>\n",
       "      <th>Prediction_odd</th>\n",
       "    </tr>\n",
       "  </thead>\n",
       "  <tbody>\n",
       "    <tr>\n",
       "      <td>380</td>\n",
       "      <td>1</td>\n",
       "      <td>Manchester United</td>\n",
       "      <td>1</td>\n",
       "      <td>Swansea City</td>\n",
       "      <td>2</td>\n",
       "      <td>1.39</td>\n",
       "      <td>5.02</td>\n",
       "      <td>9.99</td>\n",
       "      <td>A</td>\n",
       "      <td>H</td>\n",
       "    </tr>\n",
       "    <tr>\n",
       "      <td>381</td>\n",
       "      <td>1</td>\n",
       "      <td>Leicester City</td>\n",
       "      <td>2</td>\n",
       "      <td>Everton</td>\n",
       "      <td>2</td>\n",
       "      <td>3.24</td>\n",
       "      <td>3.43</td>\n",
       "      <td>2.38</td>\n",
       "      <td>D</td>\n",
       "      <td>A</td>\n",
       "    </tr>\n",
       "    <tr>\n",
       "      <td>382</td>\n",
       "      <td>1</td>\n",
       "      <td>Stoke City</td>\n",
       "      <td>0</td>\n",
       "      <td>Aston Villa</td>\n",
       "      <td>1</td>\n",
       "      <td>2.10</td>\n",
       "      <td>3.37</td>\n",
       "      <td>4.04</td>\n",
       "      <td>A</td>\n",
       "      <td>H</td>\n",
       "    </tr>\n",
       "  </tbody>\n",
       "</table>\n",
       "</div>"
      ],
      "text/plain": [
       "     MW     home_team_name  home_team_goal_count away_team_name  \\\n",
       "380   1  Manchester United                     1   Swansea City   \n",
       "381   1     Leicester City                     2        Everton   \n",
       "382   1         Stoke City                     0    Aston Villa   \n",
       "\n",
       "     away_team_goal_count  odds_ft_home_team_win  odds_ft_draw  \\\n",
       "380                     2                   1.39          5.02   \n",
       "381                     2                   3.24          3.43   \n",
       "382                     1                   2.10          3.37   \n",
       "\n",
       "     odds_ft_away_team_win Result Prediction_odd  \n",
       "380                   9.99      A              H  \n",
       "381                   2.38      D              A  \n",
       "382                   4.04      A              H  "
      ]
     },
     "execution_count": 5,
     "metadata": {},
     "output_type": "execute_result"
    }
   ],
   "source": [
    "# Check what the bookmaker predicts based on the lowest odd\n",
    "Prediction_odd = []\n",
    "\n",
    "for home, draw, away in zip(odd_data['odds_ft_home_team_win'], odd_data['odds_ft_draw'], odd_data['odds_ft_away_team_win']):\n",
    "    odd_list = [home, draw, away]\n",
    "    \n",
    "    # Match game result is Home team win\n",
    "    if min(odd_list) == home:\n",
    "        Prediction_odd.append(\"H\")\n",
    "        \n",
    "    # Match game result is Draw\n",
    "    elif min(odd_list) == draw:\n",
    "        Prediction_odd.append(\"D\")\n",
    "        \n",
    "    # Match game result is Away team win\n",
    "    else:\n",
    "        Prediction_odd.append(\"A\")\n",
    "\n",
    "# Adding the column to the dataset\n",
    "odd_data[\"Prediction_odd\"] = Prediction_odd\n",
    "odd_data.head(3)"
   ]
  },
  {
   "cell_type": "markdown",
   "metadata": {},
   "source": [
    "### Accuracy"
   ]
  },
  {
   "cell_type": "markdown",
   "metadata": {},
   "source": [
    "Now we calculate the accuracy of the bookmaker."
   ]
  },
  {
   "cell_type": "code",
   "execution_count": 15,
   "metadata": {},
   "outputs": [
    {
     "name": "stdout",
     "output_type": "stream",
     "text": [
      "The accuracy of bookmaker is: 55.00 %\n"
     ]
    }
   ],
   "source": [
    "# Check if the prediction is True or False\n",
    "odd_data[\"Check\"] = ut.check_the_pred(odd_data, 'Result', 'Prediction_odd')\n",
    "\n",
    "# Print the accuracy of Bookmaker\n",
    "accuracy =  list(odd_data[\"Check\"]).count(True) / odd_data.shape[0]\n",
    "print( 'The accuracy of bookmaker is: {:.2f} %'.format(accuracy*100))"
   ]
  },
  {
   "cell_type": "markdown",
   "metadata": {},
   "source": [
    "# Baseline \n",
    "For the creation of our baseline we assumed that a particular team will win the match when its overall is at least 1 point higher than the overall of the other team. If the difference between the overalls is close to 0, we will assume that a draw will happen.\n",
    "### Dataset preparation"
   ]
  },
  {
   "cell_type": "code",
   "execution_count": 12,
   "metadata": {},
   "outputs": [],
   "source": [
    "# Open the csv file\n",
    "baseline = ut.open_csv(\"dataset.csv\", \"dataset/Other/\")\n",
    "\n",
    "# Keep only some columns\n",
    "baseline = baseline[[\"MW\", \"Result\",\"Diff_ov\"]]\n",
    "\n",
    "# Doing the Baseline, based on the overall\n",
    "B_res = []\n",
    "\n",
    "for i in round (baseline[\"Diff_ov\"]):\n",
    "    if i == 0:\n",
    "        B_res.append(\"D\")\n",
    "    elif i >= 1:\n",
    "        B_res.append(\"H\")\n",
    "    else:\n",
    "        B_res.append(\"A\")\n",
    "\n",
    "# Adding the column to the dataframe\n",
    "baseline['B_res'] = B_res"
   ]
  },
  {
   "cell_type": "markdown",
   "metadata": {},
   "source": [
    "### Accuracy"
   ]
  },
  {
   "cell_type": "code",
   "execution_count": 14,
   "metadata": {},
   "outputs": [
    {
     "name": "stdout",
     "output_type": "stream",
     "text": [
      "The accuracy of baseline is: 50.55 %\n"
     ]
    }
   ],
   "source": [
    "# Check if the prediction is True or False\n",
    "baseline[\"Check\"] = ut.check_the_pred(baseline, 'Result', 'B_res')\n",
    "\n",
    "# Print the accuracy of Baseline\n",
    "accuracy =  list(baseline[\"Check\"]).count(True) / baseline.shape[0]\n",
    "print( 'The accuracy of baseline is: {:.2f} %'.format(accuracy*100))"
   ]
  }
 ],
 "metadata": {
  "kernelspec": {
   "display_name": "Python 3",
   "language": "python",
   "name": "python3"
  },
  "language_info": {
   "codemirror_mode": {
    "name": "ipython",
    "version": 3
   },
   "file_extension": ".py",
   "mimetype": "text/x-python",
   "name": "python",
   "nbconvert_exporter": "python",
   "pygments_lexer": "ipython3",
   "version": "3.7.4"
  }
 },
 "nbformat": 4,
 "nbformat_minor": 2
}
